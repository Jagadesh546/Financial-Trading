{
 "cells": [
  {
   "cell_type": "code",
   "execution_count": 1,
   "metadata": {},
   "outputs": [],
   "source": [
    "import os\n",
    "import pandas as pd\n",
    "import xlsxwriter\n",
    "import xlrd\n",
    "import matplotlib.pyplot as plt\n",
    "import seaborn as sns\n",
    "import numpy as np"
   ]
  },
  {
   "cell_type": "code",
   "execution_count": 9,
   "metadata": {},
   "outputs": [],
   "source": [
    "Good=pd.read_excel('/home/desktop-sk-05/Desktop/goodbacktest_2017.xls',sheet_name=0,header=0)"
   ]
  },
  {
   "cell_type": "code",
   "execution_count": 11,
   "metadata": {},
   "outputs": [],
   "source": [
    "Poor=pd.read_excel('/home/desktop-sk-05/Desktop/poorbacktest_2017.xls',sheet_name=0,header=0)"
   ]
  },
  {
   "cell_type": "code",
   "execution_count": 12,
   "metadata": {},
   "outputs": [],
   "source": [
    "Poor_Spent=Poor[Poor['Quantity']>0]"
   ]
  },
  {
   "cell_type": "code",
   "execution_count": 19,
   "metadata": {},
   "outputs": [
    {
     "data": {
      "text/html": [
       "<div>\n",
       "<style scoped>\n",
       "    .dataframe tbody tr th:only-of-type {\n",
       "        vertical-align: middle;\n",
       "    }\n",
       "\n",
       "    .dataframe tbody tr th {\n",
       "        vertical-align: top;\n",
       "    }\n",
       "\n",
       "    .dataframe thead th {\n",
       "        text-align: right;\n",
       "    }\n",
       "</style>\n",
       "<table border=\"1\" class=\"dataframe\">\n",
       "  <thead>\n",
       "    <tr style=\"text-align: right;\">\n",
       "      <th></th>\n",
       "      <th>Time</th>\n",
       "      <th>Symbol</th>\n",
       "      <th>Price</th>\n",
       "      <th>Quantity</th>\n",
       "      <th>Type</th>\n",
       "      <th>Status</th>\n",
       "      <th>Value</th>\n",
       "      <th>Tag</th>\n",
       "    </tr>\n",
       "  </thead>\n",
       "  <tbody>\n",
       "    <tr>\n",
       "      <th>0</th>\n",
       "      <td>2017-01-04 14:40:00</td>\n",
       "      <td>FPP</td>\n",
       "      <td>0.0</td>\n",
       "      <td>7142</td>\n",
       "      <td>Limit</td>\n",
       "      <td>Canceled</td>\n",
       "      <td>0.0</td>\n",
       "      <td></td>\n",
       "    </tr>\n",
       "    <tr>\n",
       "      <th>1</th>\n",
       "      <td>2017-01-04 14:40:00</td>\n",
       "      <td>AIII</td>\n",
       "      <td>0.0</td>\n",
       "      <td>5000</td>\n",
       "      <td>Limit</td>\n",
       "      <td>Canceled</td>\n",
       "      <td>0.0</td>\n",
       "      <td></td>\n",
       "    </tr>\n",
       "    <tr>\n",
       "      <th>2</th>\n",
       "      <td>2017-01-04 14:40:00</td>\n",
       "      <td>SPEX</td>\n",
       "      <td>0.0</td>\n",
       "      <td>5000</td>\n",
       "      <td>Limit</td>\n",
       "      <td>Canceled</td>\n",
       "      <td>0.0</td>\n",
       "      <td></td>\n",
       "    </tr>\n",
       "    <tr>\n",
       "      <th>3</th>\n",
       "      <td>2017-01-04 14:40:00</td>\n",
       "      <td>RIBT</td>\n",
       "      <td>0.0</td>\n",
       "      <td>5000</td>\n",
       "      <td>Limit</td>\n",
       "      <td>Canceled</td>\n",
       "      <td>0.0</td>\n",
       "      <td></td>\n",
       "    </tr>\n",
       "    <tr>\n",
       "      <th>4</th>\n",
       "      <td>2017-01-04 14:40:00</td>\n",
       "      <td>VTNR</td>\n",
       "      <td>0.0</td>\n",
       "      <td>3846</td>\n",
       "      <td>Limit</td>\n",
       "      <td>Canceled</td>\n",
       "      <td>0.0</td>\n",
       "      <td></td>\n",
       "    </tr>\n",
       "  </tbody>\n",
       "</table>\n",
       "</div>"
      ],
      "text/plain": [
       "                 Time Symbol  Price  Quantity   Type    Status  Value Tag \n",
       "0 2017-01-04 14:40:00    FPP    0.0      7142  Limit  Canceled    0.0     \n",
       "1 2017-01-04 14:40:00   AIII    0.0      5000  Limit  Canceled    0.0     \n",
       "2 2017-01-04 14:40:00   SPEX    0.0      5000  Limit  Canceled    0.0     \n",
       "3 2017-01-04 14:40:00   RIBT    0.0      5000  Limit  Canceled    0.0     \n",
       "4 2017-01-04 14:40:00   VTNR    0.0      3846  Limit  Canceled    0.0     "
      ]
     },
     "execution_count": 19,
     "metadata": {},
     "output_type": "execute_result"
    }
   ],
   "source": [
    "Poor_Spent.head()"
   ]
  },
  {
   "cell_type": "code",
   "execution_count": 20,
   "metadata": {},
   "outputs": [
    {
     "data": {
      "text/plain": [
       "Time        datetime64[ns]\n",
       "Symbol              object\n",
       "Price              float64\n",
       "Quantity             int64\n",
       "Type                object\n",
       "Status              object\n",
       "Value              float64\n",
       "Tag                 object\n",
       "dtype: object"
      ]
     },
     "execution_count": 20,
     "metadata": {},
     "output_type": "execute_result"
    }
   ],
   "source": [
    "Poor_Spent.dtypes"
   ]
  },
  {
   "cell_type": "code",
   "execution_count": 21,
   "metadata": {},
   "outputs": [],
   "source": [
    "Poor_Spent.set_index('Time',inplace=True)"
   ]
  },
  {
   "cell_type": "code",
   "execution_count": 26,
   "metadata": {},
   "outputs": [],
   "source": [
    "P=Poor_Spent.resample('M').sum()"
   ]
  },
  {
   "cell_type": "code",
   "execution_count": 31,
   "metadata": {},
   "outputs": [],
   "source": [
    "Ps=P.drop(['Price'],axis=1)"
   ]
  },
  {
   "cell_type": "code",
   "execution_count": 32,
   "metadata": {},
   "outputs": [
    {
     "data": {
      "text/plain": [
       "<matplotlib.axes._subplots.AxesSubplot at 0x7f06acf1fa90>"
      ]
     },
     "execution_count": 32,
     "metadata": {},
     "output_type": "execute_result"
    },
    {
     "data": {
      "image/png": "[encoded data removed]",
      "text/plain": [
       "<Figure size 1440x720 with 1 Axes>"
      ]
     },
     "metadata": {
      "needs_background": "light"
     },
     "output_type": "display_data"
    }
   ],
   "source": [
    "Ps.plot(figsize=(20,10),linewidth=5,fontsize=20)\n",
    "#After February it is not seen that the units were not filled above 400000,but the value spent is in below 200000."
   ]
  },
  {
   "cell_type": "code",
   "execution_count": 33,
   "metadata": {},
   "outputs": [],
   "source": [
    "Good_Sold=Good[Good['Quantity']<0]"
   ]
  },
  {
   "cell_type": "code",
   "execution_count": 34,
   "metadata": {},
   "outputs": [
    {
     "data": {
      "text/plain": [
       "Time         object\n",
       "Symbol       object\n",
       "Price       float64\n",
       "Quantity      int64\n",
       "Type         object\n",
       "Status       object\n",
       "Value       float64\n",
       "Tag          object\n",
       "dtype: object"
      ]
     },
     "execution_count": 34,
     "metadata": {},
     "output_type": "execute_result"
    }
   ],
   "source": [
    "Good_Sold.dtypes"
   ]
  },
  {
   "cell_type": "code",
   "execution_count": 35,
   "metadata": {},
   "outputs": [],
   "source": [
    "Good_Sold.Time=pd.to_datetime(Good_Sold.Time)"
   ]
  },
  {
   "cell_type": "code",
   "execution_count": 36,
   "metadata": {},
   "outputs": [],
   "source": [
    "Good_Sold.set_index('Time',inplace=True)"
   ]
  },
  {
   "cell_type": "code",
   "execution_count": 41,
   "metadata": {},
   "outputs": [],
   "source": [
    "Good_Sold.Quantity=abs(Good_Sold.Quantity)\n",
    "Good_Sold.Value=abs(Good_Sold.Value)"
   ]
  },
  {
   "cell_type": "code",
   "execution_count": 42,
   "metadata": {},
   "outputs": [
    {
     "data": {
      "text/html": [
       "<div>\n",
       "<style scoped>\n",
       "    .dataframe tbody tr th:only-of-type {\n",
       "        vertical-align: middle;\n",
       "    }\n",
       "\n",
       "    .dataframe tbody tr th {\n",
       "        vertical-align: top;\n",
       "    }\n",
       "\n",
       "    .dataframe thead th {\n",
       "        text-align: right;\n",
       "    }\n",
       "</style>\n",
       "<table border=\"1\" class=\"dataframe\">\n",
       "  <thead>\n",
       "    <tr style=\"text-align: right;\">\n",
       "      <th></th>\n",
       "      <th>Symbol</th>\n",
       "      <th>Price</th>\n",
       "      <th>Quantity</th>\n",
       "      <th>Type</th>\n",
       "      <th>Status</th>\n",
       "      <th>Value</th>\n",
       "      <th>Tag</th>\n",
       "    </tr>\n",
       "    <tr>\n",
       "      <th>Time</th>\n",
       "      <th></th>\n",
       "      <th></th>\n",
       "      <th></th>\n",
       "      <th></th>\n",
       "      <th></th>\n",
       "      <th></th>\n",
       "      <th></th>\n",
       "    </tr>\n",
       "  </thead>\n",
       "  <tbody>\n",
       "    <tr>\n",
       "      <th>2017-01-04 16:25:00</th>\n",
       "      <td>FPP</td>\n",
       "      <td>0.75</td>\n",
       "      <td>7142</td>\n",
       "      <td>Limit</td>\n",
       "      <td>Filled</td>\n",
       "      <td>5356.5</td>\n",
       "      <td></td>\n",
       "    </tr>\n",
       "    <tr>\n",
       "      <th>2017-01-04 16:25:00</th>\n",
       "      <td>SPEX</td>\n",
       "      <td>1.05</td>\n",
       "      <td>5000</td>\n",
       "      <td>Limit</td>\n",
       "      <td>Filled</td>\n",
       "      <td>5250.0</td>\n",
       "      <td></td>\n",
       "    </tr>\n",
       "    <tr>\n",
       "      <th>2017-01-04 16:25:00</th>\n",
       "      <td>VTNR</td>\n",
       "      <td>1.35</td>\n",
       "      <td>3846</td>\n",
       "      <td>Limit</td>\n",
       "      <td>Filled</td>\n",
       "      <td>5192.1</td>\n",
       "      <td></td>\n",
       "    </tr>\n",
       "    <tr>\n",
       "      <th>2017-01-04 16:25:00</th>\n",
       "      <td>XTNT</td>\n",
       "      <td>6.60</td>\n",
       "      <td>769</td>\n",
       "      <td>Limit</td>\n",
       "      <td>Filled</td>\n",
       "      <td>5075.4</td>\n",
       "      <td></td>\n",
       "    </tr>\n",
       "    <tr>\n",
       "      <th>2017-01-04 16:25:00</th>\n",
       "      <td>IFMI</td>\n",
       "      <td>11.50</td>\n",
       "      <td>440</td>\n",
       "      <td>Limit</td>\n",
       "      <td>Filled</td>\n",
       "      <td>5060.0</td>\n",
       "      <td></td>\n",
       "    </tr>\n",
       "  </tbody>\n",
       "</table>\n",
       "</div>"
      ],
      "text/plain": [
       "                    Symbol  Price  Quantity   Type  Status   Value Tag \n",
       "Time                                                                   \n",
       "2017-01-04 16:25:00    FPP   0.75      7142  Limit  Filled  5356.5     \n",
       "2017-01-04 16:25:00   SPEX   1.05      5000  Limit  Filled  5250.0     \n",
       "2017-01-04 16:25:00   VTNR   1.35      3846  Limit  Filled  5192.1     \n",
       "2017-01-04 16:25:00   XTNT   6.60       769  Limit  Filled  5075.4     \n",
       "2017-01-04 16:25:00   IFMI  11.50       440  Limit  Filled  5060.0     "
      ]
     },
     "execution_count": 42,
     "metadata": {},
     "output_type": "execute_result"
    }
   ],
   "source": [
    "Good_Sold.head()"
   ]
  },
  {
   "cell_type": "code",
   "execution_count": 43,
   "metadata": {},
   "outputs": [],
   "source": [
    "G=Good_Sold.resample('M').sum()"
   ]
  },
  {
   "cell_type": "code",
   "execution_count": 45,
   "metadata": {},
   "outputs": [],
   "source": [
    "Gs=G.drop(['Price'],axis=1)"
   ]
  },
  {
   "cell_type": "code",
   "execution_count": 46,
   "metadata": {},
   "outputs": [
    {
     "data": {
      "text/html": [
       "<div>\n",
       "<style scoped>\n",
       "    .dataframe tbody tr th:only-of-type {\n",
       "        vertical-align: middle;\n",
       "    }\n",
       "\n",
       "    .dataframe tbody tr th {\n",
       "        vertical-align: top;\n",
       "    }\n",
       "\n",
       "    .dataframe thead th {\n",
       "        text-align: right;\n",
       "    }\n",
       "</style>\n",
       "<table border=\"1\" class=\"dataframe\">\n",
       "  <thead>\n",
       "    <tr style=\"text-align: right;\">\n",
       "      <th></th>\n",
       "      <th>Quantity</th>\n",
       "      <th>Value</th>\n",
       "    </tr>\n",
       "    <tr>\n",
       "      <th>Time</th>\n",
       "      <th></th>\n",
       "      <th></th>\n",
       "    </tr>\n",
       "  </thead>\n",
       "  <tbody>\n",
       "    <tr>\n",
       "      <th>2017-01-31</th>\n",
       "      <td>359989</td>\n",
       "      <td>7.846545e+05</td>\n",
       "    </tr>\n",
       "    <tr>\n",
       "      <th>2017-02-28</th>\n",
       "      <td>270258</td>\n",
       "      <td>7.203053e+05</td>\n",
       "    </tr>\n",
       "    <tr>\n",
       "      <th>2017-03-31</th>\n",
       "      <td>228398</td>\n",
       "      <td>2.966468e+05</td>\n",
       "    </tr>\n",
       "    <tr>\n",
       "      <th>2017-04-30</th>\n",
       "      <td>145459</td>\n",
       "      <td>2.903152e+05</td>\n",
       "    </tr>\n",
       "    <tr>\n",
       "      <th>2017-05-31</th>\n",
       "      <td>86343</td>\n",
       "      <td>5.934039e+05</td>\n",
       "    </tr>\n",
       "    <tr>\n",
       "      <th>2017-06-30</th>\n",
       "      <td>131171</td>\n",
       "      <td>7.158359e+05</td>\n",
       "    </tr>\n",
       "    <tr>\n",
       "      <th>2017-07-31</th>\n",
       "      <td>131054</td>\n",
       "      <td>6.662789e+05</td>\n",
       "    </tr>\n",
       "    <tr>\n",
       "      <th>2017-08-31</th>\n",
       "      <td>161455</td>\n",
       "      <td>8.369872e+05</td>\n",
       "    </tr>\n",
       "    <tr>\n",
       "      <th>2017-09-30</th>\n",
       "      <td>176472</td>\n",
       "      <td>4.866638e+05</td>\n",
       "    </tr>\n",
       "    <tr>\n",
       "      <th>2017-10-31</th>\n",
       "      <td>253147</td>\n",
       "      <td>6.835081e+05</td>\n",
       "    </tr>\n",
       "    <tr>\n",
       "      <th>2017-11-30</th>\n",
       "      <td>392247</td>\n",
       "      <td>1.043350e+06</td>\n",
       "    </tr>\n",
       "    <tr>\n",
       "      <th>2017-12-31</th>\n",
       "      <td>702356</td>\n",
       "      <td>1.603173e+06</td>\n",
       "    </tr>\n",
       "  </tbody>\n",
       "</table>\n",
       "</div>"
      ],
      "text/plain": [
       "            Quantity         Value\n",
       "Time                              \n",
       "2017-01-31    359989  7.846545e+05\n",
       "2017-02-28    270258  7.203053e+05\n",
       "2017-03-31    228398  2.966468e+05\n",
       "2017-04-30    145459  2.903152e+05\n",
       "2017-05-31     86343  5.934039e+05\n",
       "2017-06-30    131171  7.158359e+05\n",
       "2017-07-31    131054  6.662789e+05\n",
       "2017-08-31    161455  8.369872e+05\n",
       "2017-09-30    176472  4.866638e+05\n",
       "2017-10-31    253147  6.835081e+05\n",
       "2017-11-30    392247  1.043350e+06\n",
       "2017-12-31    702356  1.603173e+06"
      ]
     },
     "execution_count": 46,
     "metadata": {},
     "output_type": "execute_result"
    }
   ],
   "source": [
    "Gs"
   ]
  },
  {
   "cell_type": "code",
   "execution_count": 47,
   "metadata": {},
   "outputs": [
    {
     "data": {
      "text/plain": [
       "<matplotlib.axes._subplots.AxesSubplot at 0x7f06ace766a0>"
      ]
     },
     "execution_count": 47,
     "metadata": {},
     "output_type": "execute_result"
    },
    {
     "data": {
      "image/png": "[encoded data removed]",
      "text/plain": [
       "<Figure size 1440x720 with 1 Axes>"
      ]
     },
     "metadata": {
      "needs_background": "light"
     },
     "output_type": "display_data"
    }
   ],
   "source": [
    "Gs.plot(figsize=(20,10),linewidth=5,fontsize=20)\n",
    "#Though value generated is low at March and April,it recovers from may and reached a peak at December in good back test file."
   ]
  },
  {
   "cell_type": "code",
   "execution_count": 48,
   "metadata": {},
   "outputs": [],
   "source": [
    "Poor_Sold=Poor[Poor['Quantity']<0]"
   ]
  },
  {
   "cell_type": "code",
   "execution_count": 51,
   "metadata": {},
   "outputs": [],
   "source": [
    "Poor_Sold.Time=pd.to_datetime(Poor_Sold.Time)\n",
    "Poor_Sold.set_index('Time',inplace=True)"
   ]
  },
  {
   "cell_type": "code",
   "execution_count": 52,
   "metadata": {},
   "outputs": [],
   "source": [
    "Poor_Sold.Quantity=abs(Poor_Sold.Quantity)\n",
    "Poor_Sold.Value=abs(Poor_Sold.Value)"
   ]
  },
  {
   "cell_type": "code",
   "execution_count": 53,
   "metadata": {},
   "outputs": [
    {
     "data": {
      "text/html": [
       "<div>\n",
       "<style scoped>\n",
       "    .dataframe tbody tr th:only-of-type {\n",
       "        vertical-align: middle;\n",
       "    }\n",
       "\n",
       "    .dataframe tbody tr th {\n",
       "        vertical-align: top;\n",
       "    }\n",
       "\n",
       "    .dataframe thead th {\n",
       "        text-align: right;\n",
       "    }\n",
       "</style>\n",
       "<table border=\"1\" class=\"dataframe\">\n",
       "  <thead>\n",
       "    <tr style=\"text-align: right;\">\n",
       "      <th></th>\n",
       "      <th>Quantity</th>\n",
       "      <th>Value</th>\n",
       "    </tr>\n",
       "    <tr>\n",
       "      <th>Time</th>\n",
       "      <th></th>\n",
       "      <th></th>\n",
       "    </tr>\n",
       "  </thead>\n",
       "  <tbody>\n",
       "    <tr>\n",
       "      <th>2017-01-31</th>\n",
       "      <td>102651</td>\n",
       "      <td>178301.515780</td>\n",
       "    </tr>\n",
       "    <tr>\n",
       "      <th>2017-02-28</th>\n",
       "      <td>70976</td>\n",
       "      <td>86421.790600</td>\n",
       "    </tr>\n",
       "    <tr>\n",
       "      <th>2017-03-31</th>\n",
       "      <td>73155</td>\n",
       "      <td>98670.850900</td>\n",
       "    </tr>\n",
       "    <tr>\n",
       "      <th>2017-04-30</th>\n",
       "      <td>51611</td>\n",
       "      <td>88388.027500</td>\n",
       "    </tr>\n",
       "    <tr>\n",
       "      <th>2017-05-31</th>\n",
       "      <td>15922</td>\n",
       "      <td>99520.918094</td>\n",
       "    </tr>\n",
       "    <tr>\n",
       "      <th>2017-06-30</th>\n",
       "      <td>27161</td>\n",
       "      <td>148308.935000</td>\n",
       "    </tr>\n",
       "    <tr>\n",
       "      <th>2017-07-31</th>\n",
       "      <td>24575</td>\n",
       "      <td>70334.370179</td>\n",
       "    </tr>\n",
       "    <tr>\n",
       "      <th>2017-08-31</th>\n",
       "      <td>9915</td>\n",
       "      <td>20253.910000</td>\n",
       "    </tr>\n",
       "    <tr>\n",
       "      <th>2017-09-30</th>\n",
       "      <td>31459</td>\n",
       "      <td>52889.250000</td>\n",
       "    </tr>\n",
       "    <tr>\n",
       "      <th>2017-10-31</th>\n",
       "      <td>31601</td>\n",
       "      <td>91672.850000</td>\n",
       "    </tr>\n",
       "    <tr>\n",
       "      <th>2017-11-30</th>\n",
       "      <td>30759</td>\n",
       "      <td>73530.150000</td>\n",
       "    </tr>\n",
       "    <tr>\n",
       "      <th>2017-12-31</th>\n",
       "      <td>22490</td>\n",
       "      <td>92119.648000</td>\n",
       "    </tr>\n",
       "  </tbody>\n",
       "</table>\n",
       "</div>"
      ],
      "text/plain": [
       "            Quantity          Value\n",
       "Time                               \n",
       "2017-01-31    102651  178301.515780\n",
       "2017-02-28     70976   86421.790600\n",
       "2017-03-31     73155   98670.850900\n",
       "2017-04-30     51611   88388.027500\n",
       "2017-05-31     15922   99520.918094\n",
       "2017-06-30     27161  148308.935000\n",
       "2017-07-31     24575   70334.370179\n",
       "2017-08-31      9915   20253.910000\n",
       "2017-09-30     31459   52889.250000\n",
       "2017-10-31     31601   91672.850000\n",
       "2017-11-30     30759   73530.150000\n",
       "2017-12-31     22490   92119.648000"
      ]
     },
     "execution_count": 53,
     "metadata": {},
     "output_type": "execute_result"
    }
   ],
   "source": [
    "P=Poor_Sold.resample('M').sum()\n",
    "Ps=P.drop(['Price'],axis=1)\n",
    "Ps"
   ]
  },
  {
   "cell_type": "code",
   "execution_count": 54,
   "metadata": {},
   "outputs": [
    {
     "data": {
      "text/plain": [
       "<matplotlib.axes._subplots.AxesSubplot at 0x7f06acd814e0>"
      ]
     },
     "execution_count": 54,
     "metadata": {},
     "output_type": "execute_result"
    },
    {
     "data": {
      "image/png": "[encoded data removed]",
      "text/plain": [
       "<Figure size 1440x720 with 1 Axes>"
      ]
     },
     "metadata": {
      "needs_background": "light"
     },
     "output_type": "display_data"
    }
   ],
   "source": [
    "Ps.plot(figsize=(20,10),linewidth=5,fontsize=20)\n",
    "#Quantity sold and value generated is very low in poor back test file."
   ]
  },
  {
   "cell_type": "code",
   "execution_count": 104,
   "metadata": {},
   "outputs": [],
   "source": [
    "GF=Good_Sold.reset_index()"
   ]
  },
  {
   "cell_type": "code",
   "execution_count": 110,
   "metadata": {},
   "outputs": [],
   "source": [
    "import datetime"
   ]
  },
  {
   "cell_type": "code",
   "execution_count": 112,
   "metadata": {},
   "outputs": [],
   "source": [
    "GF['Month']=GF['Time'].dt.month_name()"
   ]
  },
  {
   "cell_type": "code",
   "execution_count": null,
   "metadata": {},
   "outputs": [],
   "source": []
  },
  {
   "cell_type": "code",
   "execution_count": 126,
   "metadata": {},
   "outputs": [],
   "source": [
    "SF=GF.groupby(['Month','Symbol'])['Value'].sum().sort_values(ascending=False)"
   ]
  },
  {
   "cell_type": "code",
   "execution_count": 129,
   "metadata": {},
   "outputs": [],
   "source": [
    "ST=SF.to_frame()"
   ]
  },
  {
   "cell_type": "code",
   "execution_count": 131,
   "metadata": {},
   "outputs": [],
   "source": [
    "SL=ST.reset_index()"
   ]
  },
  {
   "cell_type": "code",
   "execution_count": 133,
   "metadata": {},
   "outputs": [],
   "source": [
    "SP=SL.sort_values(['Month','Symbol'],ascending=[True,False])"
   ]
  },
  {
   "cell_type": "code",
   "execution_count": 135,
   "metadata": {},
   "outputs": [],
   "source": [
    "SQ=SP.groupby('Month').head(5)"
   ]
  },
  {
   "cell_type": "code",
   "execution_count": 148,
   "metadata": {},
   "outputs": [],
   "source": [
    "T=SQ.reset_index()"
   ]
  },
  {
   "cell_type": "code",
   "execution_count": 147,
   "metadata": {},
   "outputs": [],
   "source": [
    "Top_5value_per_month=T.drop(['index'],axis=1)"
   ]
  },
  {
   "cell_type": "code",
   "execution_count": 149,
   "metadata": {},
   "outputs": [
    {
     "data": {
      "text/html": [
       "<div>\n",
       "<style scoped>\n",
       "    .dataframe tbody tr th:only-of-type {\n",
       "        vertical-align: middle;\n",
       "    }\n",
       "\n",
       "    .dataframe tbody tr th {\n",
       "        vertical-align: top;\n",
       "    }\n",
       "\n",
       "    .dataframe thead th {\n",
       "        text-align: right;\n",
       "    }\n",
       "</style>\n",
       "<table border=\"1\" class=\"dataframe\">\n",
       "  <thead>\n",
       "    <tr style=\"text-align: right;\">\n",
       "      <th></th>\n",
       "      <th>Month</th>\n",
       "      <th>Symbol</th>\n",
       "      <th>Value</th>\n",
       "    </tr>\n",
       "  </thead>\n",
       "  <tbody>\n",
       "    <tr>\n",
       "      <th>0</th>\n",
       "      <td>April</td>\n",
       "      <td>ZSAN</td>\n",
       "      <td>51787.000000</td>\n",
       "    </tr>\n",
       "    <tr>\n",
       "      <th>1</th>\n",
       "      <td>April</td>\n",
       "      <td>YECO</td>\n",
       "      <td>34117.350700</td>\n",
       "    </tr>\n",
       "    <tr>\n",
       "      <th>2</th>\n",
       "      <td>April</td>\n",
       "      <td>RMGN</td>\n",
       "      <td>25233.050000</td>\n",
       "    </tr>\n",
       "    <tr>\n",
       "      <th>3</th>\n",
       "      <td>April</td>\n",
       "      <td>RKDA</td>\n",
       "      <td>13175.800000</td>\n",
       "    </tr>\n",
       "    <tr>\n",
       "      <th>4</th>\n",
       "      <td>April</td>\n",
       "      <td>IFMI</td>\n",
       "      <td>13272.400000</td>\n",
       "    </tr>\n",
       "    <tr>\n",
       "      <th>5</th>\n",
       "      <td>August</td>\n",
       "      <td>STRM</td>\n",
       "      <td>61423.950000</td>\n",
       "    </tr>\n",
       "    <tr>\n",
       "      <th>6</th>\n",
       "      <td>August</td>\n",
       "      <td>IFON</td>\n",
       "      <td>259306.550000</td>\n",
       "    </tr>\n",
       "    <tr>\n",
       "      <th>7</th>\n",
       "      <td>August</td>\n",
       "      <td>IFMI</td>\n",
       "      <td>261359.600000</td>\n",
       "    </tr>\n",
       "    <tr>\n",
       "      <th>8</th>\n",
       "      <td>August</td>\n",
       "      <td>FAC</td>\n",
       "      <td>6780.000000</td>\n",
       "    </tr>\n",
       "    <tr>\n",
       "      <th>9</th>\n",
       "      <td>August</td>\n",
       "      <td>CBIO</td>\n",
       "      <td>248117.050000</td>\n",
       "    </tr>\n",
       "    <tr>\n",
       "      <th>10</th>\n",
       "      <td>December</td>\n",
       "      <td>STRM</td>\n",
       "      <td>214315.200000</td>\n",
       "    </tr>\n",
       "    <tr>\n",
       "      <th>11</th>\n",
       "      <td>December</td>\n",
       "      <td>OGEN</td>\n",
       "      <td>100050.952000</td>\n",
       "    </tr>\n",
       "    <tr>\n",
       "      <th>12</th>\n",
       "      <td>December</td>\n",
       "      <td>INUV</td>\n",
       "      <td>265939.400000</td>\n",
       "    </tr>\n",
       "    <tr>\n",
       "      <th>13</th>\n",
       "      <td>December</td>\n",
       "      <td>IFON</td>\n",
       "      <td>298327.500000</td>\n",
       "    </tr>\n",
       "    <tr>\n",
       "      <th>14</th>\n",
       "      <td>December</td>\n",
       "      <td>HEAR</td>\n",
       "      <td>357594.000000</td>\n",
       "    </tr>\n",
       "    <tr>\n",
       "      <th>15</th>\n",
       "      <td>February</td>\n",
       "      <td>ZSAN</td>\n",
       "      <td>179329.750000</td>\n",
       "    </tr>\n",
       "    <tr>\n",
       "      <th>16</th>\n",
       "      <td>February</td>\n",
       "      <td>XTNT</td>\n",
       "      <td>143724.009423</td>\n",
       "    </tr>\n",
       "    <tr>\n",
       "      <th>17</th>\n",
       "      <td>February</td>\n",
       "      <td>VTNR</td>\n",
       "      <td>27424.200000</td>\n",
       "    </tr>\n",
       "    <tr>\n",
       "      <th>18</th>\n",
       "      <td>February</td>\n",
       "      <td>TEAR</td>\n",
       "      <td>57180.810000</td>\n",
       "    </tr>\n",
       "    <tr>\n",
       "      <th>19</th>\n",
       "      <td>February</td>\n",
       "      <td>STLY</td>\n",
       "      <td>132968.200000</td>\n",
       "    </tr>\n",
       "    <tr>\n",
       "      <th>20</th>\n",
       "      <td>January</td>\n",
       "      <td>ZSAN</td>\n",
       "      <td>125872.550000</td>\n",
       "    </tr>\n",
       "    <tr>\n",
       "      <th>21</th>\n",
       "      <td>January</td>\n",
       "      <td>XTNT</td>\n",
       "      <td>152275.119922</td>\n",
       "    </tr>\n",
       "    <tr>\n",
       "      <th>22</th>\n",
       "      <td>January</td>\n",
       "      <td>VTNR</td>\n",
       "      <td>29150.000000</td>\n",
       "    </tr>\n",
       "    <tr>\n",
       "      <th>23</th>\n",
       "      <td>January</td>\n",
       "      <td>TEAR</td>\n",
       "      <td>114754.250000</td>\n",
       "    </tr>\n",
       "    <tr>\n",
       "      <th>24</th>\n",
       "      <td>January</td>\n",
       "      <td>STLY</td>\n",
       "      <td>89181.250000</td>\n",
       "    </tr>\n",
       "    <tr>\n",
       "      <th>25</th>\n",
       "      <td>July</td>\n",
       "      <td>ZSAN</td>\n",
       "      <td>43050.400000</td>\n",
       "    </tr>\n",
       "    <tr>\n",
       "      <th>26</th>\n",
       "      <td>July</td>\n",
       "      <td>XPL</td>\n",
       "      <td>11575.300000</td>\n",
       "    </tr>\n",
       "    <tr>\n",
       "      <th>27</th>\n",
       "      <td>July</td>\n",
       "      <td>IFON</td>\n",
       "      <td>206358.750000</td>\n",
       "    </tr>\n",
       "    <tr>\n",
       "      <th>28</th>\n",
       "      <td>July</td>\n",
       "      <td>IFMI</td>\n",
       "      <td>156576.800000</td>\n",
       "    </tr>\n",
       "    <tr>\n",
       "      <th>29</th>\n",
       "      <td>July</td>\n",
       "      <td>ESES</td>\n",
       "      <td>42240.550000</td>\n",
       "    </tr>\n",
       "    <tr>\n",
       "      <th>30</th>\n",
       "      <td>June</td>\n",
       "      <td>ZSAN</td>\n",
       "      <td>143358.500000</td>\n",
       "    </tr>\n",
       "    <tr>\n",
       "      <th>31</th>\n",
       "      <td>June</td>\n",
       "      <td>SMTX</td>\n",
       "      <td>11424.300000</td>\n",
       "    </tr>\n",
       "    <tr>\n",
       "      <th>32</th>\n",
       "      <td>June</td>\n",
       "      <td>IFON</td>\n",
       "      <td>223065.125000</td>\n",
       "    </tr>\n",
       "    <tr>\n",
       "      <th>33</th>\n",
       "      <td>June</td>\n",
       "      <td>IFMI</td>\n",
       "      <td>88788.500000</td>\n",
       "    </tr>\n",
       "    <tr>\n",
       "      <th>34</th>\n",
       "      <td>June</td>\n",
       "      <td>FTEK</td>\n",
       "      <td>5821.200000</td>\n",
       "    </tr>\n",
       "    <tr>\n",
       "      <th>35</th>\n",
       "      <td>March</td>\n",
       "      <td>XPL</td>\n",
       "      <td>14329.150000</td>\n",
       "    </tr>\n",
       "    <tr>\n",
       "      <th>36</th>\n",
       "      <td>March</td>\n",
       "      <td>TAIT</td>\n",
       "      <td>4169.000000</td>\n",
       "    </tr>\n",
       "    <tr>\n",
       "      <th>37</th>\n",
       "      <td>March</td>\n",
       "      <td>LIQT</td>\n",
       "      <td>22957.960000</td>\n",
       "    </tr>\n",
       "    <tr>\n",
       "      <th>38</th>\n",
       "      <td>March</td>\n",
       "      <td>DPW</td>\n",
       "      <td>48464.656000</td>\n",
       "    </tr>\n",
       "    <tr>\n",
       "      <th>39</th>\n",
       "      <td>March</td>\n",
       "      <td>DGSE</td>\n",
       "      <td>10110.050000</td>\n",
       "    </tr>\n",
       "    <tr>\n",
       "      <th>40</th>\n",
       "      <td>May</td>\n",
       "      <td>ZSAN</td>\n",
       "      <td>61690.400000</td>\n",
       "    </tr>\n",
       "    <tr>\n",
       "      <th>41</th>\n",
       "      <td>May</td>\n",
       "      <td>XPL</td>\n",
       "      <td>5048.800000</td>\n",
       "    </tr>\n",
       "    <tr>\n",
       "      <th>42</th>\n",
       "      <td>May</td>\n",
       "      <td>RMGN</td>\n",
       "      <td>34295.700000</td>\n",
       "    </tr>\n",
       "    <tr>\n",
       "      <th>43</th>\n",
       "      <td>May</td>\n",
       "      <td>IFON</td>\n",
       "      <td>54421.750000</td>\n",
       "    </tr>\n",
       "    <tr>\n",
       "      <th>44</th>\n",
       "      <td>May</td>\n",
       "      <td>IFMI</td>\n",
       "      <td>224405.400000</td>\n",
       "    </tr>\n",
       "    <tr>\n",
       "      <th>45</th>\n",
       "      <td>November</td>\n",
       "      <td>TEAR</td>\n",
       "      <td>1122.880000</td>\n",
       "    </tr>\n",
       "    <tr>\n",
       "      <th>46</th>\n",
       "      <td>November</td>\n",
       "      <td>STRM</td>\n",
       "      <td>27995.030000</td>\n",
       "    </tr>\n",
       "    <tr>\n",
       "      <th>47</th>\n",
       "      <td>November</td>\n",
       "      <td>MDVX</td>\n",
       "      <td>4545.900000</td>\n",
       "    </tr>\n",
       "    <tr>\n",
       "      <th>48</th>\n",
       "      <td>November</td>\n",
       "      <td>IFON</td>\n",
       "      <td>129509.200000</td>\n",
       "    </tr>\n",
       "    <tr>\n",
       "      <th>49</th>\n",
       "      <td>November</td>\n",
       "      <td>HEAR</td>\n",
       "      <td>329490.000000</td>\n",
       "    </tr>\n",
       "    <tr>\n",
       "      <th>50</th>\n",
       "      <td>October</td>\n",
       "      <td>STRM</td>\n",
       "      <td>213678.900000</td>\n",
       "    </tr>\n",
       "    <tr>\n",
       "      <th>51</th>\n",
       "      <td>October</td>\n",
       "      <td>HEAR</td>\n",
       "      <td>180804.315600</td>\n",
       "    </tr>\n",
       "    <tr>\n",
       "      <th>52</th>\n",
       "      <td>October</td>\n",
       "      <td>CBIO</td>\n",
       "      <td>289024.900000</td>\n",
       "    </tr>\n",
       "    <tr>\n",
       "      <th>53</th>\n",
       "      <td>September</td>\n",
       "      <td>STRM</td>\n",
       "      <td>161390.200000</td>\n",
       "    </tr>\n",
       "    <tr>\n",
       "      <th>54</th>\n",
       "      <td>September</td>\n",
       "      <td>MDVX</td>\n",
       "      <td>6903.750000</td>\n",
       "    </tr>\n",
       "    <tr>\n",
       "      <th>55</th>\n",
       "      <td>September</td>\n",
       "      <td>IFON</td>\n",
       "      <td>46917.300000</td>\n",
       "    </tr>\n",
       "    <tr>\n",
       "      <th>56</th>\n",
       "      <td>September</td>\n",
       "      <td>IFMI</td>\n",
       "      <td>106627.200000</td>\n",
       "    </tr>\n",
       "    <tr>\n",
       "      <th>57</th>\n",
       "      <td>September</td>\n",
       "      <td>CBIO</td>\n",
       "      <td>164825.370000</td>\n",
       "    </tr>\n",
       "  </tbody>\n",
       "</table>\n",
       "</div>"
      ],
      "text/plain": [
       "        Month Symbol          Value\n",
       "0       April   ZSAN   51787.000000\n",
       "1       April   YECO   34117.350700\n",
       "2       April   RMGN   25233.050000\n",
       "3       April   RKDA   13175.800000\n",
       "4       April   IFMI   13272.400000\n",
       "5      August   STRM   61423.950000\n",
       "6      August   IFON  259306.550000\n",
       "7      August   IFMI  261359.600000\n",
       "8      August    FAC    6780.000000\n",
       "9      August   CBIO  248117.050000\n",
       "10   December   STRM  214315.200000\n",
       "11   December   OGEN  100050.952000\n",
       "12   December   INUV  265939.400000\n",
       "13   December   IFON  298327.500000\n",
       "14   December   HEAR  357594.000000\n",
       "15   February   ZSAN  179329.750000\n",
       "16   February   XTNT  143724.009423\n",
       "17   February   VTNR   27424.200000\n",
       "18   February   TEAR   57180.810000\n",
       "19   February   STLY  132968.200000\n",
       "20    January   ZSAN  125872.550000\n",
       "21    January   XTNT  152275.119922\n",
       "22    January   VTNR   29150.000000\n",
       "23    January   TEAR  114754.250000\n",
       "24    January   STLY   89181.250000\n",
       "25       July   ZSAN   43050.400000\n",
       "26       July    XPL   11575.300000\n",
       "27       July   IFON  206358.750000\n",
       "28       July   IFMI  156576.800000\n",
       "29       July   ESES   42240.550000\n",
       "30       June   ZSAN  143358.500000\n",
       "31       June   SMTX   11424.300000\n",
       "32       June   IFON  223065.125000\n",
       "33       June   IFMI   88788.500000\n",
       "34       June   FTEK    5821.200000\n",
       "35      March    XPL   14329.150000\n",
       "36      March   TAIT    4169.000000\n",
       "37      March   LIQT   22957.960000\n",
       "38      March    DPW   48464.656000\n",
       "39      March   DGSE   10110.050000\n",
       "40        May   ZSAN   61690.400000\n",
       "41        May    XPL    5048.800000\n",
       "42        May   RMGN   34295.700000\n",
       "43        May   IFON   54421.750000\n",
       "44        May   IFMI  224405.400000\n",
       "45   November   TEAR    1122.880000\n",
       "46   November   STRM   27995.030000\n",
       "47   November   MDVX    4545.900000\n",
       "48   November   IFON  129509.200000\n",
       "49   November   HEAR  329490.000000\n",
       "50    October   STRM  213678.900000\n",
       "51    October   HEAR  180804.315600\n",
       "52    October   CBIO  289024.900000\n",
       "53  September   STRM  161390.200000\n",
       "54  September   MDVX    6903.750000\n",
       "55  September   IFON   46917.300000\n",
       "56  September   IFMI  106627.200000\n",
       "57  September   CBIO  164825.370000"
      ]
     },
     "execution_count": 149,
     "metadata": {},
     "output_type": "execute_result"
    }
   ],
   "source": [
    "Top_5value_per_month"
   ]
  },
  {
   "cell_type": "code",
   "execution_count": null,
   "metadata": {},
   "outputs": [],
   "source": []
  },
  {
   "cell_type": "code",
   "execution_count": null,
   "metadata": {},
   "outputs": [],
   "source": []
  },
  {
   "cell_type": "code",
   "execution_count": null,
   "metadata": {},
   "outputs": [],
   "source": []
  },
  {
   "cell_type": "code",
   "execution_count": null,
   "metadata": {},
   "outputs": [],
   "source": []
  }
 ],
 "metadata": {
  "kernelspec": {
   "display_name": "Python 3",
   "language": "python",
   "name": "python3"
  },
  "language_info": {
   "codemirror_mode": {
    "name": "ipython",
    "version": 3
   },
   "file_extension": ".py",
   "mimetype": "text/x-python",
   "name": "python",
   "nbconvert_exporter": "python",
   "pygments_lexer": "ipython3",
   "version": "3.7.0"
  }
 },
 "nbformat": 4,
 "nbformat_minor": 2
}
